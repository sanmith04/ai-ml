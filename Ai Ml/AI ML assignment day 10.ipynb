{
 "cells": [
  {
   "cell_type": "markdown",
   "metadata": {},
   "source": [
    "# Question 1"
   ]
  },
  {
   "cell_type": "code",
   "execution_count": 2,
   "metadata": {},
   "outputs": [
    {
     "name": "stdout",
     "output_type": "stream",
     "text": [
      "Original numbers:\n",
      "[33 22 11]\n",
      "[33 22 11]\n",
      "Comparison - greater\n",
      "[ True  True False]\n",
      "Comparison - greater_equal\n",
      "[ True  True False]\n",
      "Comparison - less\n",
      "[False False  True]\n",
      "Comparison - less_equal\n",
      "[False False  True]\n"
     ]
    }
   ],
   "source": [
    "import numpy as np\n",
    "\n",
    "\n",
    "a=np.array([33,22,11])\n",
    "\n",
    "b=np.array([10,20,30])\n",
    "\n",
    "print(\"Original numbers:\")\n",
    "print(a)\n",
    "print(a)\n",
    "print(\"Comparison - greater\")\n",
    "print(np.greater(a, b))\n",
    "print(\"Comparison - greater_equal\")\n",
    "print(np.greater_equal(a, b))\n",
    "print(\"Comparison - less\")\n",
    "print(np.less(a, b))\n",
    "print(\"Comparison - less_equal\")\n",
    "print(np.less_equal(a, b))"
   ]
  },
  {
   "cell_type": "markdown",
   "metadata": {},
   "source": [
    "# Question 2"
   ]
  },
  {
   "cell_type": "code",
   "execution_count": 3,
   "metadata": {},
   "outputs": [
    {
     "name": "stdout",
     "output_type": "stream",
     "text": [
      "[0. 0. 0. 0. 0. 0. 0. 0. 0. 0.]\n"
     ]
    }
   ],
   "source": [
    "c=print(np.zeros(10))\n"
   ]
  },
  {
   "cell_type": "code",
   "execution_count": 20,
   "metadata": {},
   "outputs": [
    {
     "name": "stdout",
     "output_type": "stream",
     "text": [
      "[1. 1. 1. 1. 1. 1. 1. 1. 1. 1.]\n"
     ]
    }
   ],
   "source": [
    "d=print(np.ones(10))"
   ]
  },
  {
   "cell_type": "code",
   "execution_count": 5,
   "metadata": {},
   "outputs": [
    {
     "name": "stdout",
     "output_type": "stream",
     "text": [
      "[5. 5. 5. 5. 5. 5. 5. 5. 5. 5.]\n"
     ]
    }
   ],
   "source": [
    "e=print(np.ones(10)*5)"
   ]
  },
  {
   "cell_type": "markdown",
   "metadata": {},
   "source": [
    "# Question 3"
   ]
  },
  {
   "cell_type": "code",
   "execution_count": 15,
   "metadata": {},
   "outputs": [
    {
     "name": "stdout",
     "output_type": "stream",
     "text": [
      "suum of array :  92\n",
      "sum of each rows :  [ 9 23 60]\n",
      "sum of each coloumn :  [17 31 44]\n"
     ]
    }
   ],
   "source": [
    "x=np.array([[1,3,5],[6,8,9],[10,20,30]])   \n",
    "\n",
    "\n",
    "print(\"suum of array : \",np.sum(x))\n",
    "\n",
    "print(\"sum of each rows : \",np.sum(x, axis=1))\n",
    "\n",
    "print(\"sum of each coloumn : \",np.sum(x, axis=0))"
   ]
  },
  {
   "cell_type": "markdown",
   "metadata": {},
   "source": [
    "# Question 4"
   ]
  },
  {
   "cell_type": "code",
   "execution_count": 19,
   "metadata": {},
   "outputs": [
    {
     "name": "stdout",
     "output_type": "stream",
     "text": [
      "Addition :  30\n",
      "Subtraction :  -10\n",
      "Multiplication :  200\n",
      "Division :  0.5\n"
     ]
    }
   ],
   "source": [
    "print(\"Addition : \",np.add(10,20))\n",
    "\n",
    "print(\"Subtraction : \",np.subtract(10,20))\n",
    "\n",
    "print(\"Multiplication : \",np.multiply(10,20))\n",
    "\n",
    "print(\"Division : \",np.divide(10,20))"
   ]
  },
  {
   "cell_type": "markdown",
   "metadata": {},
   "source": [
    "# Question 5"
   ]
  },
  {
   "cell_type": "code",
   "execution_count": 32,
   "metadata": {},
   "outputs": [
    {
     "name": "stdout",
     "output_type": "stream",
     "text": [
      "sine: array of angles given in degrees\n",
      "[0.         0.5        0.70710678 0.8660254  1.        ]\n",
      "cosine: array of angles given in degrees\n",
      "[1.00000000e+00 8.66025404e-01 7.07106781e-01 5.00000000e-01\n",
      " 6.12323400e-17]\n",
      "tangent: array of angles given in degrees\n",
      "[0.00000000e+00 5.77350269e-01 1.00000000e+00 1.73205081e+00\n",
      " 1.63312394e+16]\n"
     ]
    }
   ],
   "source": [
    "print(\"sine: array of angles given in degrees\")\n",
    "print(np.sin(np.array((0., 30., 45., 60., 90.)) * np.pi / 180))\n",
    "\n",
    "print(\"cosine: array of angles given in degrees\")\n",
    "print(np.cos(np.array((0. , 30. , 45. , 60. , 90.))* np.pi / 180.))\n",
    "\n",
    "print(\"tangent: array of angles given in degrees\")\n",
    "print(np.tan(np.array((0. , 30. , 45. , 60. , 90.))* np.pi / 180.))"
   ]
  },
  {
   "cell_type": "markdown",
   "metadata": {},
   "source": [
    "# Question 6"
   ]
  },
  {
   "cell_type": "code",
   "execution_count": 2,
   "metadata": {},
   "outputs": [],
   "source": [
    "import pandas as pd"
   ]
  },
  {
   "cell_type": "code",
   "execution_count": 4,
   "metadata": {},
   "outputs": [
    {
     "data": {
      "text/html": [
       "<div>\n",
       "<style scoped>\n",
       "    .dataframe tbody tr th:only-of-type {\n",
       "        vertical-align: middle;\n",
       "    }\n",
       "\n",
       "    .dataframe tbody tr th {\n",
       "        vertical-align: top;\n",
       "    }\n",
       "\n",
       "    .dataframe thead th {\n",
       "        text-align: right;\n",
       "    }\n",
       "</style>\n",
       "<table border=\"1\" class=\"dataframe\">\n",
       "  <thead>\n",
       "    <tr style=\"text-align: right;\">\n",
       "      <th></th>\n",
       "      <th>name</th>\n",
       "      <th>score</th>\n",
       "      <th>attempts</th>\n",
       "      <th>qualify</th>\n",
       "    </tr>\n",
       "  </thead>\n",
       "  <tbody>\n",
       "    <tr>\n",
       "      <th>0</th>\n",
       "      <td>Chandan</td>\n",
       "      <td>8.0</td>\n",
       "      <td>1</td>\n",
       "      <td>yes</td>\n",
       "    </tr>\n",
       "    <tr>\n",
       "      <th>1</th>\n",
       "      <td>Avik</td>\n",
       "      <td>8.4</td>\n",
       "      <td>3</td>\n",
       "      <td>no</td>\n",
       "    </tr>\n",
       "    <tr>\n",
       "      <th>2</th>\n",
       "      <td>Aditya</td>\n",
       "      <td>7.9</td>\n",
       "      <td>2</td>\n",
       "      <td>yes</td>\n",
       "    </tr>\n",
       "    <tr>\n",
       "      <th>3</th>\n",
       "      <td>Abhishek</td>\n",
       "      <td>8.9</td>\n",
       "      <td>3</td>\n",
       "      <td>no</td>\n",
       "    </tr>\n",
       "  </tbody>\n",
       "</table>\n",
       "</div>"
      ],
      "text/plain": [
       "       name  score  attempts qualify\n",
       "0   Chandan    8.0         1     yes\n",
       "1      Avik    8.4         3      no\n",
       "2    Aditya    7.9         2     yes\n",
       "3  Abhishek    8.9         3      no"
      ]
     },
     "execution_count": 4,
     "metadata": {},
     "output_type": "execute_result"
    }
   ],
   "source": [
    "z = {\"name\": ['Chandan','Avik','Aditya','Abhishek'],\n",
    "  \"score\": [8.0,8.4,7.9,8.9],\n",
    "   'attempts': [1, 3, 2, 3],\n",
    "    'qualify': ['yes', 'no', 'yes', 'no']}\n",
    "pd.DataFrame(z)"
   ]
  },
  {
   "cell_type": "markdown",
   "metadata": {},
   "source": [
    "# Question 7"
   ]
  },
  {
   "cell_type": "code",
   "execution_count": 13,
   "metadata": {},
   "outputs": [
    {
     "name": "stdout",
     "output_type": "stream",
     "text": [
      "Select specific columns:\n",
      "       name  score\n",
      "0   Chandan    8.0\n",
      "1      Avik    8.4\n",
      "2    Aditya    7.9\n",
      "3  Abhishek    8.9\n"
     ]
    }
   ],
   "source": [
    "print(y[['name','score']])"
   ]
  },
  {
   "cell_type": "markdown",
   "metadata": {},
   "source": [
    "# Question 8\n"
   ]
  },
  {
   "cell_type": "code",
   "execution_count": 1,
   "metadata": {},
   "outputs": [
    {
     "ename": "NameError",
     "evalue": "name 'pd' is not defined",
     "output_type": "error",
     "traceback": [
      "\u001b[1;31m---------------------------------------------------------------------------\u001b[0m",
      "\u001b[1;31mNameError\u001b[0m                                 Traceback (most recent call last)",
      "\u001b[1;32m<ipython-input-1-c5a49e92c0ed>\u001b[0m in \u001b[0;36m<module>\u001b[1;34m\u001b[0m\n\u001b[1;32m----> 1\u001b[1;33m stud_data1=pd.DataFrame({'student_id': ['S1', 'S2', 'S3', 'S4'],\n\u001b[0m\u001b[0;32m      2\u001b[0m          \u001b[1;34m'name'\u001b[0m\u001b[1;33m:\u001b[0m \u001b[1;33m[\u001b[0m\u001b[1;34m'Avik'\u001b[0m\u001b[1;33m,\u001b[0m\u001b[1;34m'Abhishek'\u001b[0m\u001b[1;33m,\u001b[0m\u001b[1;34m'Aditya'\u001b[0m\u001b[1;33m,\u001b[0m\u001b[1;34m'Chandan'\u001b[0m\u001b[1;33m]\u001b[0m\u001b[1;33m,\u001b[0m\u001b[1;33m\u001b[0m\u001b[1;33m\u001b[0m\u001b[0m\n\u001b[0;32m      3\u001b[0m         'marks': [200, 210, 190, 222]})\n\u001b[0;32m      4\u001b[0m \u001b[1;33m\u001b[0m\u001b[0m\n\u001b[0;32m      5\u001b[0m stud_data2=pd.DataFrame({'student_id': ['S1', 'S2', 'S3', 'S4'],\n",
      "\u001b[1;31mNameError\u001b[0m: name 'pd' is not defined"
     ]
    }
   ],
   "source": [
    "stud_data1=pd.DataFrame({'student_id': ['S1', 'S2', 'S3', 'S4'],\n",
    "         'name': ['Avik','Abhishek','Aditya','Chandan'],\n",
    "        'marks': [200, 210, 190, 222]})\n",
    "\n",
    "stud_data2=pd.DataFrame({'student_id': ['S1', 'S2', 'S3', 'S4'],\n",
    "         'name': ['Luice','Man','Alex','Jack'],\n",
    "        'marks': [300, 100, 187, 268]})\n",
    "\n",
    "print(\"Original DataFrames:\")\n",
    "print(stud_data1)\n",
    "print(\"-------------------------------------\")\n",
    "print(stud_data2)\n",
    "print(\"\\nJoin the said two dataframes along rows:\")\n",
    "result_data = pd.concat([stud_data1, stud_data2])\n",
    "print(result_data)\n"
   ]
  },
  {
   "cell_type": "markdown",
   "metadata": {},
   "source": [
    "# Question 9"
   ]
  },
  {
   "cell_type": "code",
   "execution_count": null,
   "metadata": {},
   "outputs": [],
   "source": []
  }
 ],
 "metadata": {
  "kernelspec": {
   "display_name": "Python 3",
   "language": "python",
   "name": "python3"
  },
  "language_info": {
   "codemirror_mode": {
    "name": "ipython",
    "version": 3
   },
   "file_extension": ".py",
   "mimetype": "text/x-python",
   "name": "python",
   "nbconvert_exporter": "python",
   "pygments_lexer": "ipython3",
   "version": "3.7.6"
  }
 },
 "nbformat": 4,
 "nbformat_minor": 4
}
