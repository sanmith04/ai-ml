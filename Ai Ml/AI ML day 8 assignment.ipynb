{
 "cells": [
  {
   "cell_type": "markdown",
   "metadata": {},
   "source": [
    "# Question 1"
   ]
  },
  {
   "cell_type": "code",
   "execution_count": 36,
   "metadata": {},
   "outputs": [],
   "source": [
    "#map function"
   ]
  },
  {
   "cell_type": "code",
   "execution_count": 37,
   "metadata": {},
   "outputs": [
    {
     "name": "stdout",
     "output_type": "stream",
     "text": [
      "<map object at 0x000002569F28AF48>\n",
      "<class 'map'>\n",
      "[1, 4, 9, 16, 25]\n"
     ]
    }
   ],
   "source": [
    "def sqr(a):\n",
    "    return a*a\n",
    "# your code goes here2\n",
    "x = map(sqr,[1,2,3,4,5])\n",
    "print(x)\n",
    "print(type(x))\n",
    "print(list(x))\n"
   ]
  },
  {
   "cell_type": "code",
   "execution_count": 38,
   "metadata": {},
   "outputs": [
    {
     "name": "stdout",
     "output_type": "stream",
     "text": [
      "[1.0, 1.4142135623730951, 1.7320508075688772, 2.0, 2.23606797749979, 3.0, 6.0]\n",
      "<map object at 0x000002569F28D6C8>\n"
     ]
    }
   ],
   "source": [
    "import math as m\n",
    "def root(a):\n",
    "    return m.sqrt(a)\n",
    "\n",
    "x=map(root,[1,2,3,4,5,9,36])\n",
    "print(list(x))\n",
    "print(x)"
   ]
  },
  {
   "cell_type": "code",
   "execution_count": 39,
   "metadata": {},
   "outputs": [
    {
     "name": "stdout",
     "output_type": "stream",
     "text": [
      "[(2.0, 6.0), (3.0, 7.0), (4.0, 8.0), (5.0, 9.0)]\n"
     ]
    }
   ],
   "source": [
    "def root(a,b):\n",
    "    return m.sqrt(a),m.sqrt(b)\n",
    "    \n",
    "y=map(root,[4,9,16,25],[36,49,64,81])\n",
    "print(list(y))"
   ]
  },
  {
   "cell_type": "code",
   "execution_count": 40,
   "metadata": {},
   "outputs": [
    {
     "name": "stdout",
     "output_type": "stream",
     "text": [
      "[(2.0, 6.0), (3.0, 7.0), (4.0, 8.0), (5.0, 9.0)]\n"
     ]
    }
   ],
   "source": [
    "def root(a,b):\n",
    "    return m.sqrt(a),m.sqrt(b)\n",
    "    \n",
    "print(list(map(root,[4,9,16,25],[36,49,64,81])))\n"
   ]
  },
  {
   "cell_type": "code",
   "execution_count": 41,
   "metadata": {},
   "outputs": [
    {
     "name": "stdout",
     "output_type": "stream",
     "text": [
      "[0, 6, 14, 24]\n"
     ]
    }
   ],
   "source": [
    "def mul(a,b):\n",
    "    return a*b\n",
    "\n",
    "print(list(map(mul , [i for i in range(5)],(5,6,7,8))))"
   ]
  },
  {
   "cell_type": "code",
   "execution_count": 43,
   "metadata": {},
   "outputs": [],
   "source": [
    "#lambda function"
   ]
  },
  {
   "cell_type": "code",
   "execution_count": 44,
   "metadata": {},
   "outputs": [
    {
     "data": {
      "text/plain": [
       "25"
      ]
     },
     "execution_count": 44,
     "metadata": {},
     "output_type": "execute_result"
    }
   ],
   "source": [
    "x=lambda a: a**2 \n",
    "x(5)"
   ]
  },
  {
   "cell_type": "code",
   "execution_count": 45,
   "metadata": {},
   "outputs": [
    {
     "name": "stdout",
     "output_type": "stream",
     "text": [
      "<function abc.<locals>.<lambda> at 0x000002569F275168>\n",
      "11\n"
     ]
    }
   ],
   "source": [
    "def abc(x):\n",
    "    return lambda y: x+y\n",
    "\n",
    "s = abc(6)\n",
    "print(s)\n",
    "print(s(5))"
   ]
  },
  {
   "cell_type": "code",
   "execution_count": 46,
   "metadata": {},
   "outputs": [
    {
     "name": "stdout",
     "output_type": "stream",
     "text": [
      "[100, 400, 900, 1600]\n"
     ]
    }
   ],
   "source": [
    "l=[10,20,30,40]\n",
    "z=map(lambda a:a*a , l)\n",
    "print(list(z))"
   ]
  },
  {
   "cell_type": "code",
   "execution_count": 47,
   "metadata": {},
   "outputs": [
    {
     "name": "stdout",
     "output_type": "stream",
     "text": [
      "[13, 23, 33, 43]\n"
     ]
    }
   ],
   "source": [
    "l=[10,20,30,40]\n",
    "z=list(map(lambda a: a+3, l ))\n",
    "print(z)"
   ]
  },
  {
   "cell_type": "code",
   "execution_count": 48,
   "metadata": {},
   "outputs": [
    {
     "name": "stdout",
     "output_type": "stream",
     "text": [
      "<filter object at 0x000002569F28DE08>\n",
      "<class 'filter'>\n",
      "[3, 4, 5, 6]\n"
     ]
    }
   ],
   "source": [
    "def abc(x):\n",
    "    if x>=3:\n",
    "        return x\n",
    "\n",
    "a = filter( abc, [0,1,2,3,4,5,6] )\n",
    "print(a)\n",
    "print(type(a))\n",
    "print(list(a))\n"
   ]
  },
  {
   "cell_type": "code",
   "execution_count": 49,
   "metadata": {},
   "outputs": [
    {
     "name": "stdout",
     "output_type": "stream",
     "text": [
      "[1, 2, 3]\n"
     ]
    }
   ],
   "source": [
    "l=[1,2,3,4,5,6,7]\n",
    "print(list(filter(lambda a:  a<=3 , l)))"
   ]
  },
  {
   "cell_type": "code",
   "execution_count": 50,
   "metadata": {},
   "outputs": [],
   "source": [
    "#reduce fumction"
   ]
  },
  {
   "cell_type": "code",
   "execution_count": 59,
   "metadata": {},
   "outputs": [
    {
     "name": "stdout",
     "output_type": "stream",
     "text": [
      "15\n"
     ]
    }
   ],
   "source": [
    "from functools import reduce \n",
    "\n",
    "\n",
    "\n",
    "z=reduce(lambda a,b : a+b , [1,2,3,4,5])\n",
    "print(z)"
   ]
  },
  {
   "cell_type": "code",
   "execution_count": 61,
   "metadata": {},
   "outputs": [
    {
     "name": "stdout",
     "output_type": "stream",
     "text": [
      "150\n"
     ]
    }
   ],
   "source": [
    "def add(a,b):\n",
    "    return a+b\n",
    "\n",
    "x = reduce(add, [10,20,30,40,50])\n",
    "print(x)"
   ]
  },
  {
   "cell_type": "code",
   "execution_count": 65,
   "metadata": {
    "scrolled": true
   },
   "outputs": [
    {
     "name": "stdout",
     "output_type": "stream",
     "text": [
      "<map object at 0x000002569F273DC8>\n",
      "[9, 16, 25, 36]\n"
     ]
    }
   ],
   "source": [
    "x=map(lambda x:x*x , filter(lambda x:x>=3 , l))\n",
    "print(x)\n",
    "print(list(x))"
   ]
  },
  {
   "cell_type": "code",
   "execution_count": 68,
   "metadata": {},
   "outputs": [
    {
     "name": "stdout",
     "output_type": "stream",
     "text": [
      "[1, 2, 3]\n"
     ]
    }
   ],
   "source": [
    "z=filter(lambda x:x<=3 , map(lambda x: x+1 ,[0,1,2,3,4,5]))\n",
    "print(list(z))"
   ]
  },
  {
   "cell_type": "code",
   "execution_count": 78,
   "metadata": {},
   "outputs": [
    {
     "name": "stdout",
     "output_type": "stream",
     "text": [
      "41\n"
     ]
    }
   ],
   "source": [
    "# map and filter within reduce\n",
    "z=reduce(lambda a,b: a+b , map(lambda x:x*x , filter(lambda x:x>=4 , [1,2,3,4,5] )))\n",
    "print(z)"
   ]
  },
  {
   "cell_type": "markdown",
   "metadata": {},
   "source": [
    "# Question 2"
   ]
  },
  {
   "cell_type": "code",
   "execution_count": 4,
   "metadata": {},
   "outputs": [
    {
     "name": "stdout",
     "output_type": "stream",
     "text": [
      "Hello all.\n",
      "Hello all.\n"
     ]
    }
   ],
   "source": [
    "class abc:\n",
    "     def show(self):\n",
    "        print(\"Hello all.\")\n",
    "\n",
    "s = abc()\n",
    "s.show()\n",
    "t = abc()\n",
    "t.show()"
   ]
  },
  {
   "cell_type": "code",
   "execution_count": 15,
   "metadata": {},
   "outputs": [
    {
     "name": "stdout",
     "output_type": "stream",
     "text": [
      "how r u\n",
      "4\n"
     ]
    }
   ],
   "source": [
    "class abc:\n",
    "    y=4\n",
    "    __v=8\n",
    "    def show(self):\n",
    "        print(\"how r u\")\n",
    "        \n",
    "z=abc()\n",
    "z.show()\n",
    "print(z.y)\n",
    "#print(z.v)"
   ]
  },
  {
   "cell_type": "code",
   "execution_count": 18,
   "metadata": {},
   "outputs": [
    {
     "name": "stdout",
     "output_type": "stream",
     "text": [
      "hello\n",
      "hey\n",
      "show it\n",
      "bye\n"
     ]
    }
   ],
   "source": [
    "class xyz:\n",
    "    def __init__(self):\n",
    "        print(\"hello\")\n",
    "        print(\"hey\")\n",
    "        \n",
    "    def show(self):\n",
    "        print(\"show it\")\n",
    "        print(\"bye\")\n",
    "        \n",
    "a=xyz()\n",
    "a.show()"
   ]
  },
  {
   "cell_type": "code",
   "execution_count": 20,
   "metadata": {},
   "outputs": [
    {
     "name": "stdout",
     "output_type": "stream",
     "text": [
      "8\n",
      "9\n",
      "72\n"
     ]
    }
   ],
   "source": [
    "class xyz:\n",
    "    def __init__(self,n):\n",
    "        self.n1=n+1\n",
    "        print(n)\n",
    "        print(self.n1)\n",
    "        print(self.n1*n)\n",
    "s = xyz(8)\n"
   ]
  },
  {
   "cell_type": "code",
   "execution_count": 25,
   "metadata": {},
   "outputs": [
    {
     "name": "stdout",
     "output_type": "stream",
     "text": [
      "10 20\n",
      "10 20\n",
      "10 20\n",
      "1000 2000\n"
     ]
    }
   ],
   "source": [
    "class st:\n",
    "    def add(self,a,b):\n",
    "        self.a1=a\n",
    "        self.b1=b\n",
    "        print(self.a1,self.b1)\n",
    "        print(a,b)\n",
    "        a=1000\n",
    "        b=2000\n",
    "        print(self.a1,self.b1)\n",
    "        print(a,b)\n",
    "\n",
    "s=st()\n",
    "s.add(10,20)"
   ]
  },
  {
   "cell_type": "code",
   "execution_count": 26,
   "metadata": {},
   "outputs": [
    {
     "data": {
      "text/plain": [
       "36"
      ]
     },
     "execution_count": 26,
     "metadata": {},
     "output_type": "execute_result"
    }
   ],
   "source": [
    "class st:\n",
    "    def add(self,a,b):\n",
    "        self.a=a\n",
    "        self.b=b\n",
    "        return self.a+self.b\n",
    "\n",
    "s=st()\n",
    "s.add(12,24)"
   ]
  },
  {
   "cell_type": "code",
   "execution_count": 27,
   "metadata": {},
   "outputs": [
    {
     "name": "stdout",
     "output_type": "stream",
     "text": [
      "Highest qualification:  Phd\n",
      "Stream:  CS & Engg\n"
     ]
    }
   ],
   "source": [
    "class st:\n",
    "    def __init__(self,a,b):\n",
    "        self.a=a\n",
    "        self.b=b\n",
    "\n",
    "s=st(\"Phd\",\"CS & Engg\")\n",
    "print(\"Highest qualification: \",s.a)\n",
    "print(\"Stream: \",s.b)"
   ]
  },
  {
   "cell_type": "code",
   "execution_count": 36,
   "metadata": {},
   "outputs": [],
   "source": [
    "class bank:\n",
    "    AcoounHolder=\"\"\n",
    "    balance=0\n",
    "    \n",
    "    def __init__(self,AccountHolder,balance):\n",
    "        self.AccountHolder=AccountHolder\n",
    "        self.balance=balance\n",
    "        \n",
    "    def deposit(self,depositamt):\n",
    "        self.balance=depositamt+self.balance\n",
    "        print(\"Your account is credited with \",depositamt)\n",
    "        print(\"New balance\",self.balance)"
   ]
  },
  {
   "cell_type": "code",
   "execution_count": 37,
   "metadata": {},
   "outputs": [],
   "source": [
    "s=bank(\"Sanmith\",3000)\n"
   ]
  },
  {
   "cell_type": "code",
   "execution_count": 38,
   "metadata": {},
   "outputs": [
    {
     "name": "stdout",
     "output_type": "stream",
     "text": [
      "Your account is credited with  2300\n",
      "New balance 5300\n"
     ]
    }
   ],
   "source": [
    "s.deposit(2300)"
   ]
  },
  {
   "cell_type": "code",
   "execution_count": 41,
   "metadata": {},
   "outputs": [
    {
     "name": "stdout",
     "output_type": "stream",
     "text": [
      "Hello  sanmith\n",
      "Object deleted\n",
      "Hello  Python\n",
      "Object deleted\n"
     ]
    }
   ],
   "source": [
    "\n",
    "class abc:\n",
    "    def __init__(self,n): \n",
    "        print(\"Hello \",n)\n",
    "    def __del__(self):\n",
    "        print(\"Object deleted\")\n",
    "\n",
    "s1=abc(\"sanmith\")\n",
    "s2=abc(\"Python\")"
   ]
  },
  {
   "cell_type": "code",
   "execution_count": 49,
   "metadata": {},
   "outputs": [
    {
     "name": "stdout",
     "output_type": "stream",
     "text": [
      "1\n",
      "2\n",
      "3\n",
      "4\n"
     ]
    },
    {
     "ename": "AttributeError",
     "evalue": "'abc' object has no attribute '__p'",
     "output_type": "error",
     "traceback": [
      "\u001b[1;31m---------------------------------------------------------------------------\u001b[0m",
      "\u001b[1;31mAttributeError\u001b[0m                            Traceback (most recent call last)",
      "\u001b[1;32m<ipython-input-49-7bf85ab885e6>\u001b[0m in \u001b[0;36m<module>\u001b[1;34m\u001b[0m\n\u001b[0;32m     10\u001b[0m \u001b[0mv\u001b[0m\u001b[1;33m.\u001b[0m\u001b[0mshow\u001b[0m\u001b[1;33m(\u001b[0m\u001b[1;33m)\u001b[0m\u001b[1;33m\u001b[0m\u001b[1;33m\u001b[0m\u001b[0m\n\u001b[0;32m     11\u001b[0m \u001b[0mv\u001b[0m\u001b[1;33m.\u001b[0m\u001b[0mshow\u001b[0m\u001b[1;33m(\u001b[0m\u001b[1;33m)\u001b[0m\u001b[1;33m\u001b[0m\u001b[1;33m\u001b[0m\u001b[0m\n\u001b[1;32m---> 12\u001b[1;33m \u001b[0mprint\u001b[0m\u001b[1;33m(\u001b[0m\u001b[0mv\u001b[0m\u001b[1;33m.\u001b[0m\u001b[0m__p\u001b[0m\u001b[1;33m)\u001b[0m\u001b[1;33m\u001b[0m\u001b[1;33m\u001b[0m\u001b[0m\n\u001b[0m",
      "\u001b[1;31mAttributeError\u001b[0m: 'abc' object has no attribute '__p'"
     ]
    }
   ],
   "source": [
    "class abc:\n",
    "    __p=0\n",
    "    def show(self):\n",
    "        self.__p=self.__p+1\n",
    "        print(self.__p)\n",
    "\n",
    "v=abc()\n",
    "v.show()\n",
    "v.show()\n",
    "v.show()\n",
    "v.show()\n",
    "print(v.__p)"
   ]
  },
  {
   "cell_type": "code",
   "execution_count": 51,
   "metadata": {},
   "outputs": [
    {
     "name": "stdout",
     "output_type": "stream",
     "text": [
      "s=  100\n",
      "s=  Sanmith\n",
      "s=  100.29\n",
      "s=  (5+6j)\n"
     ]
    }
   ],
   "source": [
    "def show(s):\n",
    "    print(\"s= \",s)\n",
    "\n",
    "show(100)\n",
    "show(\"Sanmith\")\n",
    "show(100.29)\n",
    "show(complex(5,6))"
   ]
  },
  {
   "cell_type": "code",
   "execution_count": null,
   "metadata": {},
   "outputs": [],
   "source": []
  }
 ],
 "metadata": {
  "kernelspec": {
   "display_name": "Python 3",
   "language": "python",
   "name": "python3"
  },
  "language_info": {
   "codemirror_mode": {
    "name": "ipython",
    "version": 3
   },
   "file_extension": ".py",
   "mimetype": "text/x-python",
   "name": "python",
   "nbconvert_exporter": "python",
   "pygments_lexer": "ipython3",
   "version": "3.7.6"
  }
 },
 "nbformat": 4,
 "nbformat_minor": 4
}
