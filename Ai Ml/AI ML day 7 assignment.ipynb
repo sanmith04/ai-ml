{
 "cells": [
  {
   "cell_type": "markdown",
   "metadata": {},
   "source": [
    "# Question 1 porgram"
   ]
  },
  {
   "cell_type": "code",
   "execution_count": 6,
   "metadata": {},
   "outputs": [],
   "source": [
    "f=open(\"letsupgrade.txt\",\"w\")\n",
    "\n",
    "f.write(\"Hello Everyone\")\n",
    "f.write(\"\\nNice to meet you\")\n",
    "f.close()"
   ]
  },
  {
   "cell_type": "code",
   "execution_count": 7,
   "metadata": {},
   "outputs": [],
   "source": [
    "with open(\"letsupgrade.txt\") as x:\n",
    "    with open(\"copy.txt\", \"w\") as z:\n",
    "        for line in x:\n",
    "            z.write(line)"
   ]
  },
  {
   "cell_type": "markdown",
   "metadata": {},
   "source": [
    "# Question 2 program"
   ]
  },
  {
   "cell_type": "code",
   "execution_count": 9,
   "metadata": {},
   "outputs": [
    {
     "name": "stdout",
     "output_type": "stream",
     "text": [
      "The original dictionary is :  {'cake': 100, 'bread': 200, 'biscuit': 150}\n",
      "Keys with minimum values are :  ['cake']\n"
     ]
    }
   ],
   "source": [
    "#for minimum value\n",
    "dict = {'cake' : 100, 'bread' : 200, 'biscuit' : 150} \n",
    "\n",
    "print(\"The original dictionary is : \",dict) \n",
    "\n",
    "res = [key for key in dict if\n",
    "        all(dict[temp] >= dict[key] \n",
    "        for temp in dict)] \n",
    "\n",
    " \n",
    "print(\"Keys with minimum values are : \",res) \n"
   ]
  },
  {
   "cell_type": "code",
   "execution_count": 10,
   "metadata": {},
   "outputs": [
    {
     "name": "stdout",
     "output_type": "stream",
     "text": [
      "Keys with maximum values are :  ['bread']\n"
     ]
    }
   ],
   "source": [
    "#for maximum value\n",
    "res = [key for key in dict if\n",
    "        all(dict[temp] <= dict[key] \n",
    "        for temp in dict)] \n",
    "\n",
    "\n",
    "print(\"Keys with maximum values are : \",res) "
   ]
  },
  {
   "cell_type": "code",
   "execution_count": null,
   "metadata": {},
   "outputs": [],
   "source": []
  }
 ],
 "metadata": {
  "kernelspec": {
   "display_name": "Python 3",
   "language": "python",
   "name": "python3"
  },
  "language_info": {
   "codemirror_mode": {
    "name": "ipython",
    "version": 3
   },
   "file_extension": ".py",
   "mimetype": "text/x-python",
   "name": "python",
   "nbconvert_exporter": "python",
   "pygments_lexer": "ipython3",
   "version": "3.7.6"
  }
 },
 "nbformat": 4,
 "nbformat_minor": 4
}
